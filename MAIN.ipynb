{
 "cells": [
  {
   "cell_type": "code",
   "execution_count": null,
   "metadata": {},
   "outputs": [],
   "source": [
    "pip install numpy pandas matplotlib seaborn librosa scikit-learn tensorflow keras\n"
   ]
  },
  {
   "cell_type": "markdown",
   "metadata": {},
   "source": [
    "# Pre-processing"
   ]
  },
  {
   "cell_type": "code",
   "execution_count": null,
   "metadata": {},
   "outputs": [],
   "source": [
    "import os\n",
    "import librosa\n",
    "import numpy as np\n",
    "import matplotlib.pyplot as plt\n",
    "from concurrent.futures import ProcessPoolExecutor, as_completed\n",
    "\n",
    "def extract_mel_spectrogram(file_path, n_mels=128):\n",
    "    y, sr = librosa.load(file_path, sr=None)\n",
    "    S = librosa.feature.melspectrogram(y=y, sr=sr, n_mels=n_mels)\n",
    "    S_DB = librosa.power_to_db(S, ref=np.max)\n",
    "    return S_DB\n",
    "\n",
    "def save_spectrogram_image(spectrogram, save_path):\n",
    "    plt.figure(figsize=(10, 4))\n",
    "    plt.imshow(spectrogram, aspect='auto', origin='lower', cmap='viridis')\n",
    "    plt.axis('off')\n",
    "    plt.savefig(save_path, bbox_inches='tight', pad_inches=0)\n",
    "    plt.close()\n",
    "\n",
    "def process_audio_file(file_path, output_folder):\n",
    "    if file_path.endswith('.wav'):\n",
    "        try:\n",
    "            spectrogram = extract_mel_spectrogram(file_path)\n",
    "            save_path = os.path.join(output_folder, os.path.basename(file_path).replace('.wav', '.png'))\n",
    "            save_spectrogram_image(spectrogram, save_path)\n",
    "        except Exception as e:\n",
    "            print(f\"Error processing {file_path}: {e}\")\n",
    "\n",
    "dataset_dir = 'dataset'\n",
    "output_dir = 'spectrograms'\n",
    "\n",
    "# Ensure output directories exist\n",
    "os.makedirs(output_dir, exist_ok=True)\n",
    "\n",
    "for label in ['real', 'fake']:\n",
    "    input_folder = os.path.join(dataset_dir, label)\n",
    "    output_folder = os.path.join(output_dir, label)\n",
    "    os.makedirs(output_folder, exist_ok=True)\n",
    "    \n",
    "    if not os.path.exists(input_folder):\n",
    "        raise FileNotFoundError(f\"The directory {input_folder} does not exist. Please check the path.\")\n",
    "    \n",
    "    # Get list of all audio files\n",
    "    audio_files = [os.path.join(input_folder, f) for f in os.listdir(input_folder) if f.endswith('.wav')]\n",
    "    \n",
    "    # Use ProcessPoolExecutor to process files in parallel\n",
    "    with ProcessPoolExecutor() as executor:\n",
    "        futures = [executor.submit(process_audio_file, file_path, output_folder) for file_path in audio_files]\n",
    "        \n",
    "        for future in as_completed(futures):\n",
    "            try:\n",
    "                future.result()\n",
    "            except Exception as exc:\n",
    "                print(f\"Generated an exception: {exc}\")\n"
   ]
  },
  {
   "cell_type": "markdown",
   "metadata": {},
   "source": [
    "# Model Preparation"
   ]
  },
  {
   "cell_type": "code",
   "execution_count": 5,
   "metadata": {
    "scrolled": true
   },
   "outputs": [
    {
     "name": "stdout",
     "output_type": "stream",
     "text": [
      "Found 30 images belonging to 2 classes.\n",
      "Found 6 images belonging to 2 classes.\n"
     ]
    }
   ],
   "source": [
    "from tensorflow.keras.preprocessing.image import ImageDataGenerator\n",
    "\n",
    "datagen = ImageDataGenerator(validation_split=0.2, rescale=1./255)\n",
    "\n",
    "train_gen = datagen.flow_from_directory(\n",
    "    'spectrograms',\n",
    "    target_size=(224, 224),\n",
    "    batch_size=32,\n",
    "    class_mode='binary',\n",
    "    subset='training'\n",
    ")\n",
    "\n",
    "val_gen = datagen.flow_from_directory(\n",
    "    'spectrograms',\n",
    "    target_size=(224, 224),\n",
    "    batch_size=32,\n",
    "    class_mode='binary',\n",
    "    subset='validation'\n",
    ")"
   ]
  },
  {
   "cell_type": "code",
   "execution_count": 6,
   "metadata": {},
   "outputs": [
    {
     "name": "stdout",
     "output_type": "stream",
     "text": [
      "Epoch 1/10\n",
      "1/1 [==============================] - 20s 20s/step - loss: 1.0415 - accuracy: 0.4000 - val_loss: 1.8842 - val_accuracy: 0.8333\n",
      "Epoch 2/10\n",
      "1/1 [==============================] - 6s 6s/step - loss: 2.4895 - accuracy: 0.7667 - val_loss: 2.0404 - val_accuracy: 0.8333\n",
      "Epoch 3/10\n",
      "1/1 [==============================] - 6s 6s/step - loss: 2.9077 - accuracy: 0.7667 - val_loss: 1.6548 - val_accuracy: 0.8333\n",
      "Epoch 4/10\n",
      "1/1 [==============================] - 6s 6s/step - loss: 2.3565 - accuracy: 0.7667 - val_loss: 1.0189 - val_accuracy: 0.8333\n",
      "Epoch 5/10\n",
      "1/1 [==============================] - 6s 6s/step - loss: 1.3448 - accuracy: 0.7667 - val_loss: 0.4553 - val_accuracy: 0.8333\n",
      "Epoch 6/10\n",
      "1/1 [==============================] - 6s 6s/step - loss: 0.6379 - accuracy: 0.7333 - val_loss: 1.3736 - val_accuracy: 0.1667\n",
      "Epoch 7/10\n",
      "1/1 [==============================] - 6s 6s/step - loss: 1.2607 - accuracy: 0.3000 - val_loss: 1.2425 - val_accuracy: 0.1667\n",
      "Epoch 8/10\n",
      "1/1 [==============================] - 6s 6s/step - loss: 1.2524 - accuracy: 0.2667 - val_loss: 0.5661 - val_accuracy: 0.8333\n",
      "Epoch 9/10\n",
      "1/1 [==============================] - 6s 6s/step - loss: 0.8440 - accuracy: 0.6000 - val_loss: 0.4691 - val_accuracy: 0.8333\n",
      "Epoch 10/10\n",
      "1/1 [==============================] - 6s 6s/step - loss: 0.7965 - accuracy: 0.7667 - val_loss: 0.6044 - val_accuracy: 0.8333\n"
     ]
    }
   ],
   "source": [
    "from tensorflow.keras.applications import ResNet50\n",
    "from tensorflow.keras.layers import Dense, Flatten, Dropout\n",
    "from tensorflow.keras.models import Model\n",
    "from tensorflow.keras.optimizers import Adam\n",
    "\n",
    "# Load ResNet-50 model without the top layer\n",
    "base_model = ResNet50(weights='imagenet', include_top=False, input_shape=(224, 224, 3))\n",
    "\n",
    "# Freeze the base model layers\n",
    "for layer in base_model.layers:\n",
    "    layer.trainable = False\n",
    "\n",
    "# Add custom layers on top\n",
    "x = base_model.output\n",
    "x = Flatten()(x)\n",
    "x = Dense(512, activation='relu')(x)\n",
    "x = Dropout(0.5)(x)\n",
    "predictions = Dense(1, activation='sigmoid')(x)\n",
    "\n",
    "# Create the final model\n",
    "model = Model(inputs=base_model.input, outputs=predictions)\n",
    "\n",
    "# Compile the model\n",
    "model.compile(optimizer=Adam(learning_rate=0.0001), loss='binary_crossentropy', metrics=['accuracy'])\n",
    "\n",
    "# Train the model\n",
    "history = model.fit(\n",
    "    train_gen,\n",
    "    validation_data=val_gen,\n",
    "    epochs=10\n",
    ")"
   ]
  },
  {
   "cell_type": "markdown",
   "metadata": {},
   "source": [
    "# Evaluation"
   ]
  },
  {
   "cell_type": "code",
   "execution_count": 7,
   "metadata": {},
   "outputs": [
    {
     "name": "stdout",
     "output_type": "stream",
     "text": [
      "1/1 [==============================] - 1s 928ms/step - loss: 0.6044 - accuracy: 0.8333\n",
      "Validation accuracy: 83.33%\n",
      "1/1 [==============================] - 3s 3s/step\n"
     ]
    },
    {
     "name": "stderr",
     "output_type": "stream",
     "text": [
      "C:\\Users\\yadav\\anaconda\\lib\\site-packages\\sklearn\\metrics\\_classification.py:1221: UndefinedMetricWarning: Precision and F-score are ill-defined and being set to 0.0 in labels with no predicted samples. Use `zero_division` parameter to control this behavior.\n",
      "  _warn_prf(average, modifier, msg_start, len(result))\n"
     ]
    },
    {
     "name": "stdout",
     "output_type": "stream",
     "text": [
      "              precision    recall  f1-score   support\n",
      "\n",
      "        fake       0.83      1.00      0.91         5\n",
      "        real       0.00      0.00      0.00         1\n",
      "\n",
      "    accuracy                           0.83         6\n",
      "   macro avg       0.42      0.50      0.45         6\n",
      "weighted avg       0.69      0.83      0.76         6\n",
      "\n"
     ]
    },
    {
     "data": {
      "image/png": "[encoded data removed]",
      "text/plain": [
       "<Figure size 576x432 with 2 Axes>"
      ]
     },
     "metadata": {
      "needs_background": "light"
     },
     "output_type": "display_data"
    }
   ],
   "source": [
    "# Evaluate the model on the validation set\n",
    "val_gen.reset()\n",
    "val_loss, val_accuracy = model.evaluate(val_gen)\n",
    "print(f'Validation accuracy: {val_accuracy*100:.2f}%')\n",
    "\n",
    "# Predict on validation set\n",
    "y_pred_prob = model.predict(val_gen)\n",
    "y_pred = (y_pred_prob > 0.5).astype(int)\n",
    "y_true = val_gen.classes\n",
    "\n",
    "# Classification report\n",
    "from sklearn.metrics import classification_report, confusion_matrix\n",
    "report = classification_report(y_true, y_pred, target_names=val_gen.class_indices.keys())\n",
    "print(report)\n",
    "\n",
    "# Confusion matrix\n",
    "import seaborn as sns\n",
    "import matplotlib.pyplot as plt\n",
    "cm = confusion_matrix(y_true, y_pred)\n",
    "\n",
    "# Plot confusion matrix\n",
    "plt.figure(figsize=(8, 6))\n",
    "sns.heatmap(cm, annot=True, fmt='d', cmap='Blues', xticklabels=val_gen.class_indices.keys(), yticklabels=val_gen.class_indices.keys())\n",
    "plt.xlabel('Predicted')\n",
    "plt.ylabel('True')\n",
    "plt.title('Confusion Matrix')\n",
    "plt.show()\n"
   ]
  },
  {
   "cell_type": "code",
   "execution_count": null,
   "metadata": {},
   "outputs": [],
   "source": []
  }
 ],
 "metadata": {
  "kernelspec": {
   "display_name": "Python 3",
   "language": "python",
   "name": "python3"
  },
  "language_info": {
   "codemirror_mode": {
    "name": "ipython",
    "version": 3
   },
   "file_extension": ".py",
   "mimetype": "text/x-python",
   "name": "python",
   "nbconvert_exporter": "python",
   "pygments_lexer": "ipython3",
   "version": "3.8.5"
  }
 },
 "nbformat": 4,
 "nbformat_minor": 4
}
