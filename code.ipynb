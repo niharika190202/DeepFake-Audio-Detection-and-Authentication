{
 "cells": [
  {
   "cell_type": "code",
   "execution_count": 3,
   "id": "93d6000e-803a-4b3e-89af-54c95c70e795",
   "metadata": {},
   "outputs": [
    {
     "name": "stdout",
     "output_type": "stream",
     "text": [
      "Collecting kagglehub\n",
      "  Downloading kagglehub-0.3.12-py3-none-any.whl.metadata (38 kB)\n",
      "Requirement already satisfied: packaging in c:\\users\\hp\\anaconda3\\lib\\site-packages (from kagglehub) (24.1)\n",
      "Requirement already satisfied: pyyaml in c:\\users\\hp\\anaconda3\\lib\\site-packages (from kagglehub) (6.0.1)\n",
      "Requirement already satisfied: requests in c:\\users\\hp\\anaconda3\\lib\\site-packages (from kagglehub) (2.32.3)\n",
      "Requirement already satisfied: tqdm in c:\\users\\hp\\anaconda3\\lib\\site-packages (from kagglehub) (4.66.5)\n",
      "Requirement already satisfied: charset-normalizer<4,>=2 in c:\\users\\hp\\anaconda3\\lib\\site-packages (from requests->kagglehub) (3.3.2)\n",
      "Requirement already satisfied: idna<4,>=2.5 in c:\\users\\hp\\anaconda3\\lib\\site-packages (from requests->kagglehub) (3.7)\n",
      "Requirement already satisfied: urllib3<3,>=1.21.1 in c:\\users\\hp\\anaconda3\\lib\\site-packages (from requests->kagglehub) (2.2.3)\n",
      "Requirement already satisfied: certifi>=2017.4.17 in c:\\users\\hp\\anaconda3\\lib\\site-packages (from requests->kagglehub) (2025.1.31)\n",
      "Requirement already satisfied: colorama in c:\\users\\hp\\anaconda3\\lib\\site-packages (from tqdm->kagglehub) (0.4.6)\n",
      "Downloading kagglehub-0.3.12-py3-none-any.whl (67 kB)\n",
      "Installing collected packages: kagglehub\n",
      "Successfully installed kagglehub-0.3.12\n",
      "Note: you may need to restart the kernel to use updated packages.\n"
     ]
    }
   ],
   "source": [
    "pip install kagglehub"
   ]
  },
  {
   "cell_type": "code",
   "execution_count": 5,
   "id": "61a60777-1ca7-4f52-bb4f-2a4c8f641d04",
   "metadata": {},
   "outputs": [
    {
     "name": "stdout",
     "output_type": "stream",
     "text": [
      "Downloading from https://www.kaggle.com/api/v1/datasets/download/hmsolanki/indian-languages-audio-dataset?dataset_version_number=1...\n"
     ]
    },
    {
     "name": "stderr",
     "output_type": "stream",
     "text": [
      "100%|███████████████████████████████████████████████████████████████████████████████| 713M/713M [09:45<00:00, 1.28MB/s]"
     ]
    },
    {
     "name": "stdout",
     "output_type": "stream",
     "text": [
      "Extracting files...\n"
     ]
    },
    {
     "name": "stderr",
     "output_type": "stream",
     "text": [
      "\n"
     ]
    },
    {
     "name": "stdout",
     "output_type": "stream",
     "text": [
      "Path to dataset files: C:\\Users\\hp\\.cache\\kagglehub\\datasets\\hmsolanki\\indian-languages-audio-dataset\\versions\\1\n"
     ]
    }
   ],
   "source": [
    "import kagglehub\n",
    "\n",
    "path = kagglehub.dataset_download(\"hmsolanki/indian-languages-audio-dataset\")\n",
    "print(\"Path to dataset files:\", path)\n"
   ]
  },
  {
   "cell_type": "code",
   "execution_count": 34,
   "id": "ace34a7f-681c-4396-a9fa-09c73e43198c",
   "metadata": {},
   "outputs": [],
   "source": [
    "import os\n",
    "import numpy as np\n",
    "import librosa\n",
    "import random\n",
    "from sklearn.model_selection import train_test_split\n",
    "from sklearn.linear_model import LogisticRegression\n",
    "from sklearn.metrics import accuracy_score, confusion_matrix\n",
    "from librosa.effects import pitch_shift\n",
    "import matplotlib.pyplot as plt\n",
    "import seaborn as sns"
   ]
  },
  {
   "cell_type": "code",
   "execution_count": 56,
   "id": "6a9f02ec-5f6a-470f-a30e-bc92e07f0868",
   "metadata": {},
   "outputs": [],
   "source": [
    "# LOAD HINDI AUDIO FILES\n",
    "real_dir = \"C:/Users/hp/.cache/kagglehub/datasets/hmsolanki/indian-languages-audio-dataset/versions/1/Indian_Languages_Audio_Dataset/Hindi\"\n",
    "audio_files = [os.path.join(real_dir, f) for f in os.listdir(real_dir) if f.endswith('.wav') or f.endswith('.mp3')]"
   ]
  },
  {
   "cell_type": "code",
   "execution_count": 41,
   "id": "0a8f808a-2dc6-4669-bf21-4e075b0b92a7",
   "metadata": {},
   "outputs": [],
   "source": [
    "# FAKE AUDIO FUNCTIONS\n",
    "def add_noise(data, noise_level=0.005):\n",
    "    noise = np.random.randn(len(data))\n",
    "    return data + noise_level * noise\n",
    "\n",
    "def shift_pitch(data, sr, n_steps=2):\n",
    "    return librosa.effects.pitch_shift(y=data, sr=sr, n_steps=n_steps)\n",
    "\n",
    "def stretch_audio(data, rate=1.2):\n",
    "    return librosa.effects.time_stretch(y=data, rate=rate)\n"
   ]
  },
  {
   "cell_type": "code",
   "execution_count": 48,
   "id": "1d830566-c3e6-43ae-99ab-e770097f359f",
   "metadata": {},
   "outputs": [],
   "source": [
    "# FEATURE EXTRACTION LOOP\n",
    "X = []\n",
    "y = []  # 0 = real, 1 = fake\n",
    "\n",
    "for file_path in audio_files:\n",
    "    try:\n",
    "        y_real, sr = librosa.load(file_path, duration=3.0)\n",
    "        mfcc = librosa.feature.mfcc(y=y_real, sr=sr, n_mfcc=13)\n",
    "        X.append(np.mean(mfcc.T, axis=0))\n",
    "        y.append(0)\n",
    "\n",
    "        # Generate fake samples\n",
    "        for fake in [shift_pitch(y_real, sr), stretch_audio(y_real), add_noise(y_real)]:\n",
    "            mfcc_fake = librosa.feature.mfcc(y=fake, sr=sr, n_mfcc=13)\n",
    "            X.append(np.mean(mfcc_fake.T, axis=0))\n",
    "            y.append(1)\n",
    "\n",
    "    except Exception as e:\n",
    "        print(f\"Error with file {file_path}: {e}\")"
   ]
  },
  {
   "cell_type": "code",
   "execution_count": 49,
   "id": "d300cdae-7f73-4099-9397-5759ecf8e56a",
   "metadata": {},
   "outputs": [],
   "source": [
    "X = np.array(X)\n",
    "y = np.array(y)\n",
    "X_train, X_test, y_train, y_test = train_test_split(X, y, test_size=0.2, random_state=42)"
   ]
  },
  {
   "cell_type": "code",
   "execution_count": 51,
   "id": "938e5371-978e-4142-96eb-6408a6f9e032",
   "metadata": {},
   "outputs": [
    {
     "name": "stdout",
     "output_type": "stream",
     "text": [
      "Labels count: [1000 3000]\n"
     ]
    }
   ],
   "source": [
    "model = LogisticRegression(max_iter=1000)\n",
    "model.fit(X_train, y_train)\n",
    "print(\"Labels count:\", np.bincount(y))"
   ]
  },
  {
   "cell_type": "code",
   "execution_count": 50,
   "id": "fbc3dd71-2a5d-44b5-9a35-6090d6fd89c7",
   "metadata": {},
   "outputs": [
    {
     "name": "stdout",
     "output_type": "stream",
     "text": [
      "Accuracy: 72.75 %\n"
     ]
    },
    {
     "data": {
      "image/png": "[encoded data removed]",
      "text/plain": [
       "<Figure size 640x480 with 2 Axes>"
      ]
     },
     "metadata": {},
     "output_type": "display_data"
    }
   ],
   "source": [
    "y_pred = model.predict(X_test)\n",
    "acc = accuracy_score(y_test, y_pred)\n",
    "print(\"Accuracy:\", round(acc * 100, 2), \"%\")\n",
    "\n",
    "cm = confusion_matrix(y_test, y_pred)\n",
    "sns.heatmap(cm, annot=True, fmt=\"d\", cmap=\"Blues\", xticklabels=[\"Real\", \"Fake\"], yticklabels=[\"Real\", \"Fake\"])\n",
    "plt.title(\"Confusion Matrix\")\n",
    "plt.xlabel(\"Predicted\")\n",
    "plt.ylabel(\"Actual\")\n",
    "plt.show()\n"
   ]
  },
  {
   "cell_type": "code",
   "execution_count": null,
   "id": "a27b0362-1ea9-4305-b67e-5b77c93fa7ea",
   "metadata": {},
   "outputs": [],
   "source": []
  },
  {
   "cell_type": "markdown",
   "id": "3100aaff-a936-44bd-8ea4-4a3f58e391f0",
   "metadata": {},
   "source": []
  }
 ],
 "metadata": {
  "kernelspec": {
   "display_name": "Python [conda env:base] *",
   "language": "python",
   "name": "conda-base-py"
  },
  "language_info": {
   "codemirror_mode": {
    "name": "ipython",
    "version": 3
   },
   "file_extension": ".py",
   "mimetype": "text/x-python",
   "name": "python",
   "nbconvert_exporter": "python",
   "pygments_lexer": "ipython3",
   "version": "3.12.7"
  }
 },
 "nbformat": 4,
 "nbformat_minor": 5
}
